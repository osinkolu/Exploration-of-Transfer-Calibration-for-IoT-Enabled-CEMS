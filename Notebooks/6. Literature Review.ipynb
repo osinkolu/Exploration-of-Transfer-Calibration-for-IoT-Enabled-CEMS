{
 "cells": [
  {
   "cell_type": "code",
   "execution_count": 1,
   "id": "335ceccc",
   "metadata": {},
   "outputs": [],
   "source": [
    "import pandas as pd\n",
    "import matplotlib.pyplot as plt\n",
    "import seaborn as sns\n",
    "import numpy as np\n",
    "import warnings\n",
    "from sklearn.model_selection import train_test_split\n",
    "from sklearn.ensemble import RandomForestRegressor\n",
    "warnings.filterwarnings(\"ignore\")"
   ]
  },
  {
   "cell_type": "code",
   "execution_count": 2,
   "id": "2bc0df98",
   "metadata": {},
   "outputs": [],
   "source": [
    "alpha = pd.read_csv(\"alpha.csv\")\n",
    "beta = pd.read_csv(\"beta.csv\")\n",
    "charlie = pd.read_csv(\"charlie.csv\")\n",
    "\n",
    "alpha = alpha.sample(frac=1).reset_index(drop=True)\n",
    "beta = beta.sample(frac=1).reset_index(drop=True)\n",
    "charlie = charlie.sample(frac=1).reset_index(drop=True)\n",
    "\n",
    "\n",
    "data = alpha.copy()#.append(beta).append(charlie).reset_index(drop=True)"
   ]
  },
  {
   "cell_type": "code",
   "execution_count": 3,
   "id": "635fc8a0",
   "metadata": {},
   "outputs": [],
   "source": [
    "data = data.drop(columns=[\"created_at\",\"MG811_Digital\",\"MQ7_Digital\"])\n",
    "\n",
    "# Drop rows where the value of 'column_name' is 0\n",
    "#data = data.loc[data['CO'] != 0]\n"
   ]
  },
  {
   "cell_type": "code",
   "execution_count": 4,
   "id": "a20cedec",
   "metadata": {
    "scrolled": true
   },
   "outputs": [
    {
     "data": {
      "text/html": [
       "<div>\n",
       "<style scoped>\n",
       "    .dataframe tbody tr th:only-of-type {\n",
       "        vertical-align: middle;\n",
       "    }\n",
       "\n",
       "    .dataframe tbody tr th {\n",
       "        vertical-align: top;\n",
       "    }\n",
       "\n",
       "    .dataframe thead th {\n",
       "        text-align: right;\n",
       "    }\n",
       "</style>\n",
       "<table border=\"1\" class=\"dataframe\">\n",
       "  <thead>\n",
       "    <tr style=\"text-align: right;\">\n",
       "      <th></th>\n",
       "      <th>Temperature</th>\n",
       "      <th>Humidity</th>\n",
       "      <th>MQ7_analog</th>\n",
       "      <th>MQ9_analog</th>\n",
       "      <th>MG811_analog</th>\n",
       "      <th>MQ135_analog</th>\n",
       "      <th>CO2</th>\n",
       "      <th>CO</th>\n",
       "    </tr>\n",
       "  </thead>\n",
       "  <tbody>\n",
       "    <tr>\n",
       "      <th>0</th>\n",
       "      <td>31.83</td>\n",
       "      <td>66.77</td>\n",
       "      <td>4984.0</td>\n",
       "      <td>3015.0</td>\n",
       "      <td>4776.0</td>\n",
       "      <td>2920.0</td>\n",
       "      <td>600.0</td>\n",
       "      <td>0.0</td>\n",
       "    </tr>\n",
       "    <tr>\n",
       "      <th>1</th>\n",
       "      <td>31.79</td>\n",
       "      <td>67.10</td>\n",
       "      <td>4605.0</td>\n",
       "      <td>2911.0</td>\n",
       "      <td>4789.0</td>\n",
       "      <td>2904.0</td>\n",
       "      <td>601.0</td>\n",
       "      <td>0.0</td>\n",
       "    </tr>\n",
       "    <tr>\n",
       "      <th>2</th>\n",
       "      <td>33.09</td>\n",
       "      <td>58.64</td>\n",
       "      <td>3341.0</td>\n",
       "      <td>2108.0</td>\n",
       "      <td>5624.0</td>\n",
       "      <td>3229.0</td>\n",
       "      <td>615.0</td>\n",
       "      <td>0.0</td>\n",
       "    </tr>\n",
       "    <tr>\n",
       "      <th>3</th>\n",
       "      <td>32.18</td>\n",
       "      <td>61.56</td>\n",
       "      <td>3251.0</td>\n",
       "      <td>1572.0</td>\n",
       "      <td>2958.0</td>\n",
       "      <td>1452.0</td>\n",
       "      <td>609.0</td>\n",
       "      <td>0.0</td>\n",
       "    </tr>\n",
       "    <tr>\n",
       "      <th>4</th>\n",
       "      <td>28.47</td>\n",
       "      <td>73.81</td>\n",
       "      <td>4852.0</td>\n",
       "      <td>2646.0</td>\n",
       "      <td>5853.0</td>\n",
       "      <td>2638.0</td>\n",
       "      <td>601.0</td>\n",
       "      <td>0.0</td>\n",
       "    </tr>\n",
       "  </tbody>\n",
       "</table>\n",
       "</div>"
      ],
      "text/plain": [
       "   Temperature  Humidity  MQ7_analog  MQ9_analog  MG811_analog  MQ135_analog  \\\n",
       "0        31.83     66.77      4984.0      3015.0        4776.0        2920.0   \n",
       "1        31.79     67.10      4605.0      2911.0        4789.0        2904.0   \n",
       "2        33.09     58.64      3341.0      2108.0        5624.0        3229.0   \n",
       "3        32.18     61.56      3251.0      1572.0        2958.0        1452.0   \n",
       "4        28.47     73.81      4852.0      2646.0        5853.0        2638.0   \n",
       "\n",
       "     CO2   CO  \n",
       "0  600.0  0.0  \n",
       "1  601.0  0.0  \n",
       "2  615.0  0.0  \n",
       "3  609.0  0.0  \n",
       "4  601.0  0.0  "
      ]
     },
     "execution_count": 4,
     "metadata": {},
     "output_type": "execute_result"
    }
   ],
   "source": [
    "data.head()"
   ]
  },
  {
   "cell_type": "code",
   "execution_count": 5,
   "id": "57efc394",
   "metadata": {},
   "outputs": [],
   "source": [
    "target = data.CO2\n",
    "data = data.drop([\"CO2\", \"CO\"], axis = 1)"
   ]
  },
  {
   "cell_type": "code",
   "execution_count": 9,
   "id": "f7b4465c",
   "metadata": {},
   "outputs": [
    {
     "name": "stdout",
     "output_type": "stream",
     "text": [
      "                  Model           MSE        RMSE         MAE          R2\n",
      "0  Mine (Random Forest)     18.849755    4.341630    2.476696    0.916838\n",
      "1         Manual Tuning  52106.319603  228.268087  155.691170 -228.884241\n",
      "2         Average value    226.949828   15.064854   12.037968   -0.001264\n"
     ]
    }
   ],
   "source": [
    "import pandas as pd\n",
    "from sklearn.model_selection import train_test_split\n",
    "from sklearn.metrics import mean_squared_error, mean_absolute_error, r2_score\n",
    "\n",
    "# Step 1: Split the data into train and test sets\n",
    "X_train, X_test, y_train, y_test = train_test_split(data, target, test_size=0.2, random_state=42)\n",
    "\n",
    "\n",
    "# Function to calculate metrics\n",
    "def calculate_metrics(y_true, y_pred):\n",
    "    mse = mean_squared_error(y_true, y_pred)\n",
    "    rmse = mean_squared_error(y_true, y_pred, squared=False)\n",
    "    mae = mean_absolute_error(y_true, y_pred)\n",
    "    r2 = r2_score(y_true, y_pred)\n",
    "    return mse, rmse, mae, r2\n",
    "\n",
    "# Create a list to store the metrics for each model\n",
    "metrics_data = []\n",
    "\n",
    "# Model 1 (Random Forest)\n",
    "\n",
    "# Step 2: Build the Random Forest regression model\n",
    "rf_model = RandomForestRegressor()\n",
    "rf_model.fit(X_train, y_train)\n",
    "\n",
    "# Step 3: Make predictions on the test set\n",
    "y_pred = rf_model.predict(X_test)\n",
    "\n",
    "y_true_rf = y_test  # Replace with the true target values for the Random Forest model\n",
    "y_pred_rf = y_pred  # Replace with the predicted target values for the Random Forest model\n",
    "mse_rf, rmse_rf, mae_rf, r2_rf = calculate_metrics(y_true_rf, y_pred_rf)\n",
    "metrics_data.append(['Mine (Random Forest)', mse_rf, rmse_rf, mae_rf, r2_rf])\n",
    "\n",
    "# Model 2 (Manual Tuning)\n",
    "\n",
    "X_test[\"MQ7_analog\"] = X_test[\"MQ7_analog\"]/5.126\n",
    "X_test[\"MQ9_analog\"] = X_test[\"MQ9_analog\"]/2.16\n",
    "X_test[\"MG811_analog\"] = X_test[\"MG811_analog\"]/8.3\n",
    "X_test[\"MQ135_analog\"] = X_test[\"MQ135_analog\"]/4\n",
    "\n",
    "y_pred = X_test[[\"MQ7_analog\",\"MQ9_analog\",\"MG811_analog\",\"MQ135_analog\"]].mean(axis=1)\n",
    "\n",
    "y_true_manual = y_test  # Replace with the true target values for the LightGBM model\n",
    "y_pred_manual = y_pred  # Replace with the predicted target values for the LightGBM model\n",
    "\n",
    "mse_manual, rmse_manual, mae_manual, r2_manual = calculate_metrics(y_true_manual, y_pred_manual)\n",
    "metrics_data.append(['Manual Tuning', mse_manual, rmse_manual, mae_manual, r2_manual])\n",
    "\n",
    "# Model 3 (The Mean)\n",
    "y_pred = [y_train.mean() for i in range(len(X_test))]\n",
    "y_true_mean = y_test  # Replace with the true target values for the mean model\n",
    "y_pred_mean = y_pred  # Replace with the predicted target values for the mean model\n",
    "mse_mean, rmse_mean, mae_mean, r2_mean = calculate_metrics(y_true_mean, y_pred_mean)\n",
    "metrics_data.append(['Average value', mse_mean, rmse_mean, mae_mean, r2_mean])\n",
    "\n",
    "# Create a DataFrame to store the metrics\n",
    "columns = ['Model', 'MSE', 'RMSE', 'MAE', 'R2']\n",
    "metrics_df = pd.DataFrame(metrics_data, columns=columns)\n",
    "\n",
    "# Display the DataFrame\n",
    "print(metrics_df)\n"
   ]
  },
  {
   "cell_type": "code",
   "execution_count": 10,
   "id": "8cf1cffa",
   "metadata": {},
   "outputs": [
    {
     "data": {
      "text/plain": [
       "<Figure size 1440x864 with 0 Axes>"
      ]
     },
     "metadata": {},
     "output_type": "display_data"
    },
    {
     "data": {
      "image/png": "[encoded data removed]",
      "text/plain": [
       "<Figure size 432x288 with 1 Axes>"
      ]
     },
     "metadata": {
      "needs_background": "light"
     },
     "output_type": "display_data"
    }
   ],
   "source": [
    "import pandas as pd\n",
    "import matplotlib.pyplot as plt\n",
    "\n",
    "# Assuming you have the DataFrame 'metrics_df' as shown above\n",
    "\n",
    "# Set the \"Model\" column as the index for easier plotting\n",
    "metrics_df.set_index('Model', inplace=True)\n",
    "\n",
    "# Create a grouped bar plot with log scale on the y-axis\n",
    "plt.figure(figsize=(20, 12))\n",
    "metrics_df.plot(kind='bar', logy=True, colormap='viridis', rot=0)\n",
    "plt.xlabel('Model')\n",
    "plt.ylabel('Log Scale of Metric')\n",
    "plt.title('Comparison of Metrics: Mine (Random Forest) vs. Manual Tuning vs. Average value')\n",
    "plt.legend(title='Metric', bbox_to_anchor=(1, 1))\n",
    "plt.tight_layout()\n",
    "plt.savefig('Comparison of Metrics Mine vs Manual Tuning vs Average value.png', bbox_inches='tight')\n",
    "plt.show()\n"
   ]
  },
  {
   "cell_type": "code",
   "execution_count": null,
   "id": "d6370106",
   "metadata": {},
   "outputs": [],
   "source": []
  }
 ],
 "metadata": {
  "kernelspec": {
   "display_name": "Python 3 (ipykernel)",
   "language": "python",
   "name": "python3"
  },
  "language_info": {
   "codemirror_mode": {
    "name": "ipython",
    "version": 3
   },
   "file_extension": ".py",
   "mimetype": "text/x-python",
   "name": "python",
   "nbconvert_exporter": "python",
   "pygments_lexer": "ipython3",
   "version": "3.9.12"
  }
 },
 "nbformat": 4,
 "nbformat_minor": 5
}
